{
  "nbformat": 4,
  "nbformat_minor": 0,
  "metadata": {
    "colab": {
      "name": "Image Classification.ipynb",
      "version": "0.3.2",
      "provenance": [],
      "collapsed_sections": []
    },
    "kernelspec": {
      "name": "python3",
      "display_name": "Python 3"
    },
    "accelerator": "GPU"
  },
  "cells": [
    {
      "cell_type": "code",
      "metadata": {
        "id": "TC-ewKKDWflX",
        "colab_type": "code",
        "colab": {}
      },
      "source": [
        "import os\n",
        "import re\n",
        "import sys\n",
        "import torch\n",
        "import torch.nn as nn\n",
        "import torch.nn.functional as F\n",
        "import torch.optim as optim\n",
        "import torchvision\n",
        "import torchvision.transforms as transforms"
      ],
      "execution_count": 0,
      "outputs": []
    },
    {
      "cell_type": "code",
      "metadata": {
        "id": "1QeDZ2nYE41J",
        "colab_type": "code",
        "colab": {}
      },
      "source": [
        "from torch.autograd import Variable"
      ],
      "execution_count": 0,
      "outputs": []
    },
    {
      "cell_type": "code",
      "metadata": {
        "id": "i70hOQk442U3",
        "colab_type": "code",
        "colab": {}
      },
      "source": [
        "device = torch.device('cuda' if torch.cuda.is_available() else 'cpu')"
      ],
      "execution_count": 0,
      "outputs": []
    },
    {
      "cell_type": "markdown",
      "metadata": {
        "id": "rC21wrSntQoI",
        "colab_type": "text"
      },
      "source": [
        "###  Load  CIFAR-10 Dataset"
      ]
    },
    {
      "cell_type": "code",
      "metadata": {
        "id": "P-17RgMdtNZI",
        "colab_type": "code",
        "colab": {}
      },
      "source": [
        "transform = transforms.Compose(\n",
        "    [transforms.ToTensor(),\n",
        "     transforms.Normalize((0.5, 0.5, 0.5), (0.5, 0.5, 0.5))])"
      ],
      "execution_count": 0,
      "outputs": []
    },
    {
      "cell_type": "code",
      "metadata": {
        "id": "WPpcIbSPtm3H",
        "colab_type": "code",
        "colab": {}
      },
      "source": [
        "batchsize = 64"
      ],
      "execution_count": 0,
      "outputs": []
    },
    {
      "cell_type": "code",
      "metadata": {
        "id": "CMb-KPUbtZ6-",
        "colab_type": "code",
        "outputId": "29967b0b-4dbf-4b2b-f0a7-387da95f85d7",
        "colab": {
          "base_uri": "https://localhost:8080/",
          "height": 51
        }
      },
      "source": [
        "trainset = torchvision.datasets.CIFAR10(root=' ', train=True,\n",
        "                                        download=True, transform=transform)\n",
        "trainloader = torch.utils.data.DataLoader(trainset, batch_size=batchsize,\n",
        "                                          shuffle=True, num_workers=1)"
      ],
      "execution_count": 6,
      "outputs": [
        {
          "output_type": "stream",
          "text": [
            "\r0it [00:00, ?it/s]"
          ],
          "name": "stderr"
        },
        {
          "output_type": "stream",
          "text": [
            "Downloading https://www.cs.toronto.edu/~kriz/cifar-10-python.tar.gz to  /cifar-10-python.tar.gz\n"
          ],
          "name": "stdout"
        },
        {
          "output_type": "stream",
          "text": [
            "170500096it [00:03, 52088493.84it/s]                               \n"
          ],
          "name": "stderr"
        }
      ]
    },
    {
      "cell_type": "code",
      "metadata": {
        "id": "yWs2x3EHtr16",
        "colab_type": "code",
        "outputId": "c8f9caa9-1d9a-42d3-dfe3-69a8ead7e203",
        "colab": {
          "base_uri": "https://localhost:8080/",
          "height": 34
        }
      },
      "source": [
        "testset = torchvision.datasets.CIFAR10(root=' ', train=False,\n",
        "                                       download=True, transform=transform)\n",
        "testloader = torch.utils.data.DataLoader(testset, batch_size=batchsize,\n",
        "                                         shuffle=False, num_workers=1)"
      ],
      "execution_count": 7,
      "outputs": [
        {
          "output_type": "stream",
          "text": [
            "Files already downloaded and verified\n"
          ],
          "name": "stdout"
        }
      ]
    },
    {
      "cell_type": "code",
      "metadata": {
        "id": "1RkG8UTyMESY",
        "colab_type": "code",
        "colab": {}
      },
      "source": [
        "numclasses = 10"
      ],
      "execution_count": 0,
      "outputs": []
    },
    {
      "cell_type": "code",
      "metadata": {
        "id": "6kM-zhNwIBmx",
        "colab_type": "code",
        "colab": {}
      },
      "source": [
        "def to_categorical(ytrue):\n",
        "  input_shape = ytrue.size()\n",
        "  n = ytrue.size(0)\n",
        "  categorical = torch.zeros(n, numclasses).to(device)\n",
        "  categorical[torch.arange(n), ytrue] = 1\n",
        "  output_shape = input_shape + (numclasses,)\n",
        "  categorical = torch.reshape(categorical, output_shape)\n",
        "  return categorical"
      ],
      "execution_count": 0,
      "outputs": []
    },
    {
      "cell_type": "markdown",
      "metadata": {
        "id": "LIsZ7if4uK62",
        "colab_type": "text"
      },
      "source": [
        "### Focal Loss"
      ]
    },
    {
      "cell_type": "code",
      "metadata": {
        "id": "156O4NGEuCuA",
        "colab_type": "code",
        "colab": {}
      },
      "source": [
        "class FocalLoss(nn.Module):\n",
        "  def __init__(self,reduction='mean',alpha=0.01,gamma=1):\n",
        "    super(FocalLoss,self).__init__()\n",
        "    self.reduction = reduction\n",
        "    self.alpha = alpha\n",
        "    self.gamma = gamma\n",
        "    \n",
        "  def forward(self,ypred,ytrue):\n",
        "    logpt = F.log_softmax(ypred,1) \n",
        "    pt = Variable(torch.exp(logpt))\n",
        "    ytrue = to_categorical(ytrue)\n",
        "    pt_prime = 1 - pt\n",
        "    focalloss = -self.alpha * (pt_prime)**self.gamma * ytrue * logpt\n",
        "    focalloss = torch.sum(focalloss,1)\n",
        "    if(self.reduction=='sum'):\n",
        "      return focalloss.sum()\n",
        "    else:\n",
        "      return focalloss.mean()"
      ],
      "execution_count": 0,
      "outputs": []
    },
    {
      "cell_type": "markdown",
      "metadata": {
        "id": "m34MDU7Z39jN",
        "colab_type": "text"
      },
      "source": [
        "### Hyperparameters\n"
      ]
    },
    {
      "cell_type": "code",
      "metadata": {
        "id": "panPgzZ24CDN",
        "colab_type": "code",
        "colab": {}
      },
      "source": [
        "numclasses = 10\n",
        "epochs = 20\n",
        "learning_rate = 0.001"
      ],
      "execution_count": 0,
      "outputs": []
    },
    {
      "cell_type": "code",
      "metadata": {
        "id": "uJg9CSa43tMi",
        "colab_type": "code",
        "colab": {}
      },
      "source": [
        "class Model(nn.Module):\n",
        "  def __init__(self):\n",
        "    super(Model,self).__init__()\n",
        "    self.numclasses = numclasses\n",
        "    self.conv1 = nn.Conv2d(3, 6, 5)\n",
        "    self.pool = nn.MaxPool2d(2, 2)\n",
        "    self.conv2 = nn.Conv2d(6, 16, 5)\n",
        "    self.fc1 = nn.Linear(16 * 5 * 5, 120)\n",
        "    self.fc2 = nn.Linear(120, 84)\n",
        "    self.fc3 = nn.Linear(84, 10)\n",
        "    \n",
        "  def forward(self, x):\n",
        "    out = self.pool(F.relu(self.conv1(x)))\n",
        "    out = self.pool(F.relu(self.conv2(out)))\n",
        "    out = out.view(out.size(0),-1)\n",
        "    out = F.relu(self.fc1(out))\n",
        "    out = F.relu(self.fc2(out))\n",
        "    out = self.fc3(out)\n",
        "    return out"
      ],
      "execution_count": 0,
      "outputs": []
    },
    {
      "cell_type": "code",
      "metadata": {
        "id": "PvqaeOWT4aJj",
        "colab_type": "code",
        "colab": {}
      },
      "source": [
        "model = Model().to(device)"
      ],
      "execution_count": 0,
      "outputs": []
    },
    {
      "cell_type": "code",
      "metadata": {
        "id": "qNfJxBPk5ZhC",
        "colab_type": "code",
        "colab": {}
      },
      "source": [
        "def evaluate(net,loader):\n",
        "  with torch.no_grad():\n",
        "    net.eval()\n",
        "    total = 0.0\n",
        "    correct = 0.0\n",
        "    for images,labels in loader:\n",
        "      images,labels = images.to(device),labels.to(device)\n",
        "      \n",
        "      total+=images.size(0)\n",
        "      output = net(images).to(device)\n",
        "      pred = torch.max(output,1)[1]\n",
        "      correct+=(torch.sum(pred==labels.data)).item()\n",
        "      \n",
        "    return round((correct/total)*100,2)"
      ],
      "execution_count": 0,
      "outputs": []
    },
    {
      "cell_type": "markdown",
      "metadata": {
        "id": "sLetpMww5CVM",
        "colab_type": "text"
      },
      "source": [
        "### Categorical Cross Entropy Loss Training"
      ]
    },
    {
      "cell_type": "code",
      "metadata": {
        "id": "Qs9Fv-vx5Pu1",
        "colab_type": "code",
        "outputId": "02e4d516-9df4-4e27-f303-0c916c1c5678",
        "colab": {
          "base_uri": "https://localhost:8080/",
          "height": 374
        }
      },
      "source": [
        "model = Model().to(device)\n",
        "\n",
        "criterion = nn.CrossEntropyLoss(reduction='sum')\n",
        "optimizer = optim.Adam(model.parameters(), lr=learning_rate)\n",
        "\n",
        "\n",
        "cce_trainloss = []\n",
        "cce_trainacc = []\n",
        "model.train()\n",
        "for epoch in range(1,epochs+1):\n",
        "  model.train()\n",
        "  trainloss = 0.0\n",
        "  total = 0.0\n",
        "  for images,labels in trainloader:\n",
        "    images,labels = images.to(device),labels.to(device)\n",
        "    optimizer.zero_grad()\n",
        "\n",
        "    output = model(images).to(device)\n",
        "    curloss = criterion(output,labels)\n",
        "    \n",
        "    curloss.backward()\n",
        "    optimizer.step()\n",
        "    \n",
        "    trainloss+=curloss.item()\n",
        "    total+=images.size(0)\n",
        "    \n",
        "  trainloss = (trainloss/total)\n",
        "  trainloss = round(trainloss,2)\n",
        "  cce_trainloss.append(trainloss)\n",
        "  \n",
        "  trainacc = evaluate(model,trainloader)\n",
        "  cce_trainacc.append(trainacc)\n",
        "  print(\"Epoch {} Train Loss {} Train Acc {} \".format(epoch,trainloss,trainacc))\n",
        "  \n",
        "\n",
        "testacc = evaluate(model,testloader)\n",
        "print(\"Test Accuracy {} \".format(testacc))"
      ],
      "execution_count": 34,
      "outputs": [
        {
          "output_type": "stream",
          "text": [
            "Epoch 1 Train Loss 1.67 Train Acc 47.58 \n",
            "Epoch 2 Train Loss 1.39 Train Acc 53.02 \n",
            "Epoch 3 Train Loss 1.25 Train Acc 58.08 \n",
            "Epoch 4 Train Loss 1.16 Train Acc 60.91 \n",
            "Epoch 5 Train Loss 1.09 Train Acc 63.32 \n",
            "Epoch 6 Train Loss 1.04 Train Acc 64.42 \n",
            "Epoch 7 Train Loss 1.0 Train Acc 65.46 \n",
            "Epoch 8 Train Loss 0.96 Train Acc 67.76 \n",
            "Epoch 9 Train Loss 0.92 Train Acc 68.75 \n",
            "Epoch 10 Train Loss 0.89 Train Acc 70.66 \n",
            "Epoch 11 Train Loss 0.86 Train Acc 72.29 \n",
            "Epoch 12 Train Loss 0.84 Train Acc 71.89 \n",
            "Epoch 13 Train Loss 0.81 Train Acc 73.29 \n",
            "Epoch 14 Train Loss 0.79 Train Acc 74.81 \n",
            "Epoch 15 Train Loss 0.77 Train Acc 74.17 \n",
            "Epoch 16 Train Loss 0.75 Train Acc 76.54 \n",
            "Epoch 17 Train Loss 0.73 Train Acc 76.29 \n",
            "Epoch 18 Train Loss 0.71 Train Acc 77.15 \n",
            "Epoch 19 Train Loss 0.69 Train Acc 77.56 \n",
            "Epoch 20 Train Loss 0.67 Train Acc 77.79 \n",
            "Test Accuracy 63.54 \n"
          ],
          "name": "stdout"
        }
      ]
    },
    {
      "cell_type": "markdown",
      "metadata": {
        "id": "prNYRdpmAqoi",
        "colab_type": "text"
      },
      "source": [
        "### Focal Loss Training"
      ]
    },
    {
      "cell_type": "code",
      "metadata": {
        "id": "vCfTTUx79AGm",
        "colab_type": "code",
        "outputId": "3aaafb96-251f-4ae8-db65-cb9a6152a048",
        "colab": {
          "base_uri": "https://localhost:8080/",
          "height": 374
        }
      },
      "source": [
        "model = Model().to(device)\n",
        "\n",
        "criterion = FocalLoss(reduction='sum',alpha=0.25,gamma=2)\n",
        "optimizer = optim.Adam(model.parameters(), lr=learning_rate)\n",
        "\n",
        "\n",
        "fl_trainloss = []\n",
        "fl_trainacc = []\n",
        "model.train()\n",
        "for epoch in range(1,epochs+1):\n",
        "  model.train()\n",
        "  trainloss = 0.0\n",
        "  total = 0.0\n",
        "  for images,labels in trainloader:\n",
        "    images,labels = images.to(device),labels.to(device)\n",
        "    optimizer.zero_grad()\n",
        "\n",
        "    output = model(images).to(device)\n",
        "    curloss = criterion(output,labels)\n",
        "    \n",
        "    curloss.backward()\n",
        "    optimizer.step()\n",
        "    \n",
        "    trainloss+=curloss.item()\n",
        "    total+=images.size(0)\n",
        "    \n",
        "  trainloss = (trainloss/total)\n",
        "  trainloss = round(trainloss,2)\n",
        "  fl_trainloss.append(trainloss)\n",
        "  \n",
        "  trainacc = evaluate(model,trainloader)\n",
        "  fl_trainacc.append(trainacc)\n",
        "  print(\"Epoch {} Train Loss {} Train Acc {} \".format(epoch,trainloss,trainacc))\n",
        "  \n",
        "\n",
        "testacc = evaluate(model,testloader)\n",
        "print(\"Test Accuracy {} \".format(testacc))"
      ],
      "execution_count": 41,
      "outputs": [
        {
          "output_type": "stream",
          "text": [
            "Epoch 1 Train Loss 0.29 Train Acc 47.46 \n",
            "Epoch 2 Train Loss 0.23 Train Acc 54.04 \n",
            "Epoch 3 Train Loss 0.2 Train Acc 56.43 \n",
            "Epoch 4 Train Loss 0.19 Train Acc 58.63 \n",
            "Epoch 5 Train Loss 0.17 Train Acc 61.02 \n",
            "Epoch 6 Train Loss 0.16 Train Acc 62.39 \n",
            "Epoch 7 Train Loss 0.16 Train Acc 64.52 \n",
            "Epoch 8 Train Loss 0.15 Train Acc 65.12 \n",
            "Epoch 9 Train Loss 0.14 Train Acc 64.93 \n",
            "Epoch 10 Train Loss 0.13 Train Acc 66.37 \n",
            "Epoch 11 Train Loss 0.13 Train Acc 67.94 \n",
            "Epoch 12 Train Loss 0.12 Train Acc 67.94 \n",
            "Epoch 13 Train Loss 0.12 Train Acc 68.57 \n",
            "Epoch 14 Train Loss 0.11 Train Acc 69.01 \n",
            "Epoch 15 Train Loss 0.11 Train Acc 71.23 \n",
            "Epoch 16 Train Loss 0.11 Train Acc 70.68 \n",
            "Epoch 17 Train Loss 0.1 Train Acc 72.77 \n",
            "Epoch 18 Train Loss 0.1 Train Acc 73.01 \n",
            "Epoch 19 Train Loss 0.09 Train Acc 72.68 \n",
            "Epoch 20 Train Loss 0.09 Train Acc 74.59 \n",
            "Test Accuracy 60.67 \n"
          ],
          "name": "stdout"
        }
      ]
    },
    {
      "cell_type": "code",
      "metadata": {
        "id": "IQrBQzaJRCD5",
        "colab_type": "code",
        "colab": {
          "base_uri": "https://localhost:8080/",
          "height": 374
        },
        "outputId": "1b772f4d-0d0c-46cf-9c3e-cb69b631aed5"
      },
      "source": [
        "model = Model().to(device)\n",
        "\n",
        "criterion = FocalLoss(reduction='sum',alpha=1,gamma=0)\n",
        "optimizer = optim.Adam(model.parameters(), lr=learning_rate)\n",
        "\n",
        "\n",
        "fl_trainloss = []\n",
        "fl_trainacc = []\n",
        "model.train()\n",
        "for epoch in range(1,epochs+1):\n",
        "  model.train()\n",
        "  trainloss = 0.0\n",
        "  total = 0.0\n",
        "  for images,labels in trainloader:\n",
        "    images,labels = images.to(device),labels.to(device)\n",
        "    optimizer.zero_grad()\n",
        "\n",
        "    output = model(images).to(device)\n",
        "    curloss = criterion(output,labels)\n",
        "    \n",
        "    curloss.backward()\n",
        "    optimizer.step()\n",
        "    \n",
        "    trainloss+=curloss.item()\n",
        "    total+=images.size(0)\n",
        "    \n",
        "  trainloss = (trainloss/total)\n",
        "  trainloss = round(trainloss,2)\n",
        "  fl_trainloss.append(trainloss)\n",
        "  \n",
        "  trainacc = evaluate(model,trainloader)\n",
        "  fl_trainacc.append(trainacc)\n",
        "  print(\"Epoch {} Train Loss {} Train Acc {} \".format(epoch,trainloss,trainacc))\n",
        "  \n",
        "\n",
        "testacc = evaluate(model,testloader)\n",
        "print(\"Test Accuracy {} \".format(testacc))"
      ],
      "execution_count": 50,
      "outputs": [
        {
          "output_type": "stream",
          "text": [
            "Epoch 1 Train Loss 1.67 Train Acc 47.51 \n",
            "Epoch 2 Train Loss 1.35 Train Acc 56.3 \n",
            "Epoch 3 Train Loss 1.22 Train Acc 58.34 \n",
            "Epoch 4 Train Loss 1.13 Train Acc 62.22 \n",
            "Epoch 5 Train Loss 1.07 Train Acc 64.22 \n",
            "Epoch 6 Train Loss 1.03 Train Acc 66.58 \n",
            "Epoch 7 Train Loss 0.98 Train Acc 67.69 \n",
            "Epoch 8 Train Loss 0.95 Train Acc 68.81 \n",
            "Epoch 9 Train Loss 0.92 Train Acc 70.19 \n",
            "Epoch 10 Train Loss 0.89 Train Acc 70.72 \n",
            "Epoch 11 Train Loss 0.86 Train Acc 72.41 \n",
            "Epoch 12 Train Loss 0.84 Train Acc 72.07 \n",
            "Epoch 13 Train Loss 0.81 Train Acc 72.29 \n",
            "Epoch 14 Train Loss 0.79 Train Acc 74.33 \n",
            "Epoch 15 Train Loss 0.76 Train Acc 74.63 \n",
            "Epoch 16 Train Loss 0.74 Train Acc 75.3 \n",
            "Epoch 17 Train Loss 0.72 Train Acc 76.5 \n",
            "Epoch 18 Train Loss 0.7 Train Acc 76.81 \n",
            "Epoch 19 Train Loss 0.68 Train Acc 78.0 \n",
            "Epoch 20 Train Loss 0.67 Train Acc 77.91 \n",
            "Test Accuracy 62.55 \n"
          ],
          "name": "stdout"
        }
      ]
    },
    {
      "cell_type": "code",
      "metadata": {
        "id": "t_OnsxDLBRKe",
        "colab_type": "code",
        "colab": {}
      },
      "source": [
        "import matplotlib.pyplot as plt\n",
        "import matplotlib.patches as mpatches"
      ],
      "execution_count": 0,
      "outputs": []
    },
    {
      "cell_type": "code",
      "metadata": {
        "id": "NGtx_bmoBV2f",
        "colab_type": "code",
        "colab": {}
      },
      "source": [
        "iterations = list(range(1,epochs+1))"
      ],
      "execution_count": 0,
      "outputs": []
    },
    {
      "cell_type": "markdown",
      "metadata": {
        "id": "l9nUPSGsBL9f",
        "colab_type": "text"
      },
      "source": [
        "### Plotting Loss values "
      ]
    },
    {
      "cell_type": "code",
      "metadata": {
        "id": "30pqZGtqBKoM",
        "colab_type": "code",
        "colab": {
          "base_uri": "https://localhost:8080/",
          "height": 295
        },
        "outputId": "23a98749-f587-46fa-f2c6-0ee7aa03ad85"
      },
      "source": [
        "plt.plot(cce_trainloss,iterations,label='categorical loss')\n",
        "plt.plot(fl_trainloss,iterations,label='focal loss')\n",
        "plt.xlabel('Train Loss')\n",
        "plt.ylabel('Epochs')\n",
        "plt.title(\"alpha=0.25,gamma=2\")\n",
        "plt.legend()\n",
        "plt.show()"
      ],
      "execution_count": 48,
      "outputs": [
        {
          "output_type": "display_data",
          "data": {
            "image/png": "[encoded data removed]",
            "text/plain": [
              "<Figure size 432x288 with 1 Axes>"
            ]
          },
          "metadata": {
            "tags": []
          }
        }
      ]
    },
    {
      "cell_type": "markdown",
      "metadata": {
        "id": "pS5WHNs5B3tf",
        "colab_type": "text"
      },
      "source": [
        "### Plotting Accuracy Values"
      ]
    },
    {
      "cell_type": "code",
      "metadata": {
        "id": "I-sawUrQB8B3",
        "colab_type": "code",
        "colab": {
          "base_uri": "https://localhost:8080/",
          "height": 295
        },
        "outputId": "43858e50-dbbd-4cbb-fbf5-5f44bdf8bfd4"
      },
      "source": [
        "plt.plot(cce_trainacc,iterations,label='categorical accuracy')\n",
        "plt.plot(fl_trainacc,iterations,label='focal loss accuracy')\n",
        "plt.xlabel('Train Accuracy')\n",
        "plt.ylabel('Epochs')\n",
        "plt.title(\"alpha=0.25,gamma=2\")\n",
        "plt.legend()\n",
        "plt.show()"
      ],
      "execution_count": 49,
      "outputs": [
        {
          "output_type": "display_data",
          "data": {
            "image/png": "[encoded data removed]",
            "text/plain": [
              "<Figure size 432x288 with 1 Axes>"
            ]
          },
          "metadata": {
            "tags": []
          }
        }
      ]
    },
    {
      "cell_type": "markdown",
      "metadata": {
        "id": "42AygdJcQ50o",
        "colab_type": "text"
      },
      "source": [
        "### Plotting Loss Values"
      ]
    },
    {
      "cell_type": "code",
      "metadata": {
        "id": "B2ijW7tMQuYy",
        "colab_type": "code",
        "colab": {
          "base_uri": "https://localhost:8080/",
          "height": 295
        },
        "outputId": "6c1c3611-0867-4500-9a84-530302834e6d"
      },
      "source": [
        "plt.plot(cce_trainloss,iterations,label='categorical loss')\n",
        "plt.plot(fl_trainloss,iterations,label='focal loss')\n",
        "plt.xlabel('Train Loss')\n",
        "plt.ylabel('Epochs')\n",
        "plt.title(\"alpha=1,gamma=0\")\n",
        "plt.legend()\n",
        "plt.show()"
      ],
      "execution_count": 51,
      "outputs": [
        {
          "output_type": "display_data",
          "data": {
            "image/png": "[encoded data removed]",
            "text/plain": [
              "<Figure size 432x288 with 1 Axes>"
            ]
          },
          "metadata": {
            "tags": []
          }
        }
      ]
    },
    {
      "cell_type": "markdown",
      "metadata": {
        "id": "8ilLKNJKRKiZ",
        "colab_type": "text"
      },
      "source": [
        "### Plotting Accuracy Values"
      ]
    },
    {
      "cell_type": "code",
      "metadata": {
        "id": "v9Q4UN6-RM1d",
        "colab_type": "code",
        "colab": {
          "base_uri": "https://localhost:8080/",
          "height": 295
        },
        "outputId": "a2d656ae-9b63-4489-8a18-638a5bdfa3d2"
      },
      "source": [
        "plt.plot(cce_trainacc,iterations,label='categorical accuracy')\n",
        "plt.plot(fl_trainacc,iterations,label='focal loss accuracy')\n",
        "plt.xlabel('Train Accuracy')\n",
        "plt.ylabel('Epochs')\n",
        "plt.title(\"alpha=1,gamma=0\")\n",
        "plt.legend()\n",
        "plt.show()"
      ],
      "execution_count": 52,
      "outputs": [
        {
          "output_type": "display_data",
          "data": {
            "image/png": "[encoded data removed]",
            "text/plain": [
              "<Figure size 432x288 with 1 Axes>"
            ]
          },
          "metadata": {
            "tags": []
          }
        }
      ]
    },
    {
      "cell_type": "code",
      "metadata": {
        "id": "7FIQmCKTTli9",
        "colab_type": "code",
        "colab": {}
      },
      "source": [
        ""
      ],
      "execution_count": 0,
      "outputs": []
    }
  ]
}